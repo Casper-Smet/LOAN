{
 "cells": [
  {
   "cell_type": "markdown",
   "metadata": {},
   "source": [
    "# Notebook Challenge 3: naar multiagent systemen\n",
    "\n",
    "## "
   ]
  },
  {
   "cell_type": "code",
   "execution_count": null,
   "metadata": {},
   "outputs": [],
   "source": [
    "import matplotlib.pyplot as plt\n",
    "import numpy as np\n",
    "import pandas as pd\n",
    "import seaborn as sns\n",
    "\n",
    "sns.set_theme(style=\"whitegrid\")"
   ]
  },
  {
   "cell_type": "code",
   "execution_count": null,
   "metadata": {},
   "outputs": [],
   "source": [
    "from loan.batchrunner import run_batch\n",
    "import loan.helpers as helpl \n",
    "\n",
    "df = run_batch()"
   ]
  },
  {
   "cell_type": "code",
   "execution_count": null,
   "metadata": {},
   "outputs": [],
   "source": [
    "df.head()"
   ]
  },
  {
   "cell_type": "code",
   "execution_count": null,
   "metadata": {},
   "outputs": [],
   "source": [
    "df['factory_location'].unique()"
   ]
  },
  {
   "cell_type": "code",
   "execution_count": null,
   "metadata": {},
   "outputs": [],
   "source": [
    "# # Changing columns name with index number \n",
    "mapping = {\n",
    "    df.columns[0]: \"helper_type\",\n",
    "    df.columns[1]: \"factory_location\",\n",
    "    df.columns[2]: \"N\",\n",
    "    df.columns[3]: \"Run\",\n",
    "    df.columns[4]: \"End time\",\n",
    "    df.columns[5]: \"Hitpoints\",\n",
    "    df.columns[6]: \"Ill vertices\",\n",
    "    df.columns[7]: \"Vertices healed\",\n",
    "}\n",
    "df.rename(columns=mapping, inplace=True)\n",
    "  \n",
    "# # Display \n",
    "df.head() "
   ]
  },
  {
   "cell_type": "code",
   "execution_count": null,
   "metadata": {},
   "outputs": [],
   "source": [
    "df.groupby([\"helper_type\", \"factory_location\"]).mean().sort_values([\"End time\"], ascending=False)"
   ]
  },
  {
   "cell_type": "markdown",
   "metadata": {},
   "source": [
    "## Plotten van de resultaten\n",
    "Allereerst wordt de representatie van het lichaam getoond."
   ]
  },
  {
   "cell_type": "code",
   "execution_count": null,
   "metadata": {},
   "outputs": [],
   "source": [
    "graph = helpl.graph_from_json(r\"./loan/data/network.json\")\n",
    "plt.figure(figsize=(12,8))\n",
    "helpl.plot_graph(graph)"
   ]
  },
  {
   "cell_type": "markdown",
   "metadata": {},
   "source": [
    "### plotting the results of the experiment"
   ]
  },
  {
   "cell_type": "code",
   "execution_count": null,
   "metadata": {},
   "outputs": [],
   "source": [
    "plt.figure(figsize=(15,8))\n",
    "ax = sns.boxplot(x=\"factory_location\", y=\"End time\", hue=\"helper_type\",\n",
    "                 data=df, palette=\"Set3\")\n",
    "ax.set_title(\"Eindtijd van simulatie tov locatie van de NaniteFactory\")\n",
    "ax.set_xlabel(\"Locatie van factory in lichaam\")\n",
    "ax.set_ylabel(\"Eindtijd\")\n",
    "plt.show()"
   ]
  },
  {
   "cell_type": "code",
   "execution_count": null,
   "metadata": {},
   "outputs": [],
   "source": []
  }
 ],
 "metadata": {
  "kernelspec": {
   "display_name": "Python 3",
   "language": "python",
   "name": "python3"
  },
  "language_info": {
   "codemirror_mode": {
    "name": "ipython",
    "version": 3
   },
   "file_extension": ".py",
   "mimetype": "text/x-python",
   "name": "python",
   "nbconvert_exporter": "python",
   "pygments_lexer": "ipython3",
   "version": "3.8.5"
  }
 },
 "nbformat": 4,
 "nbformat_minor": 4
}
