{
 "cells": [
  {
   "cell_type": "markdown",
   "metadata": {},
   "source": [
    "# Notebook Challenge 2: van biologisch naar artificieel systeem\n",
    "\n",
    "## Implementatie van biologisch geïnspireerde AI\n",
    "\n",
    "### Aanvulling/aanpassing op eerder geïmplementeerde agent-based simulation\n",
    "Hier is uiteindelijk gekozen om een deel van het afweersysteem te ontwikkelen.\n",
    "Hierbij wordt allereerst een HelperNanite geïmplementeerd die als taak heeft om de omgeving af te zoeken naar zieke vertices.\n",
    "Tijdens het zoeken kan hij gebruik maken van het feit dat een zieke vertex last heeft van inflammation en dat deze om deze reden hitte afgeeft.\n",
    "Deze hitte heeft impact op de directe buren die op hun beurt ook warm worden (maar deze wel verminderd is ten opzichte van de zieke vertex).\n",
    "De HelperNanite kan deze hitte gebruiken om te zoeken naar zieke vertices.  \n",
    "\n",
    "Wanneer de HelperNanite een zieke vertex gevonden heeft wilt hij dit zo snel mogelijk doorgeven aan de NaniteFactory (die een lymfeknoop voorstelt).\n",
    "De NaniteFactory gaat bij dit signaal allereerst kijken of hij deze ziekte en zieke vertex al aan het behandelen is. Als dat klopt dan hoeft hij verder niets te doen.\n",
    "Wanneer dit niet het geval is wordt er gekeken of de ziekte al eerder langsgekomen is (bestaan er nog Tc-geheugencellen voor).\n",
    "Als deze \n",
    "\n",
    "### Experimentatie op effect aanpassingen\n"
   ]
  },
  {
   "cell_type": "code",
   "execution_count": null,
   "metadata": {},
   "outputs": [],
   "source": [
    "import matplotlib.pyplot as plt\n",
    "import numpy as np\n",
    "import pandas as pd\n",
    "import seaborn as sns\n",
    "\n",
    "sns.set_theme(style=\"whitegrid\")"
   ]
  },
  {
   "cell_type": "code",
   "execution_count": null,
   "metadata": {},
   "outputs": [],
   "source": [
    "from loan.batchrunner import run_batch\n",
    "import loan.helpers as helpl \n",
    "\n",
    "df = run_batch(use_mp=False)"
   ]
  },
  {
   "cell_type": "code",
   "execution_count": null,
   "metadata": {},
   "outputs": [],
   "source": [
    "df.head()"
   ]
  },
  {
   "cell_type": "code",
   "execution_count": null,
   "metadata": {},
   "outputs": [],
   "source": [
    "df.groupby([\"factory_location\"]).mean().sort_values([\"End time\"], ascending=False)"
   ]
  },
  {
   "cell_type": "markdown",
   "metadata": {},
   "source": [
    "## plot city\n",
    "Allereerst wordt de representatie van het lichaam getoond."
   ]
  },
  {
   "cell_type": "code",
   "execution_count": null,
   "metadata": {},
   "outputs": [],
   "source": [
    "graph = helpl.graph_from_json(r\"./loan/data/network.json\")\n",
    "plt.figure(figsize=(12,8))\n",
    "helpl.plot_graph(graph)"
   ]
  },
  {
   "cell_type": "markdown",
   "metadata": {},
   "source": [
    "### plotting the results of the experiment"
   ]
  },
  {
   "cell_type": "code",
   "execution_count": null,
   "metadata": {},
   "outputs": [],
   "source": [
    "plt.figure(figsize=(15,8))\n",
    "ax = sns.boxplot(x=\"factory_location\", y=\"End time\",\n",
    "                 data=df, palette=\"Set3\")\n",
    "ax.set_title(\"Eindtijd van simulatie tov locatie van de NaniteFactory\")\n",
    "ax.set_xlabel(\"Locatie van factory in lichaam\")\n",
    "ax.set_ylabel(\"Eindtijd\")\n",
    "plt.show()\n",
    "\n",
    "# df.groupby([\"factory_location\", \"illness_chance\"]).mean().sort_values([\"End time\"], ascending=False)"
   ]
  },
  {
   "cell_type": "code",
   "execution_count": null,
   "metadata": {},
   "outputs": [],
   "source": [
    "plt.figure(figsize=(15,8))\n",
    "ax = sns.violinplot(x=\"factory_location\", y=\"End time\",\n",
    "                 data=df, palette=\"Set3\")\n",
    "ax.set_title(\"Eindtijd van simulatie tov locatie van de NaniteFactory\")\n",
    "ax.set_xlabel(\"Locatie van factory in lichaam\")\n",
    "ax.set_ylabel(\"Eindtijd\")\n",
    "plt.show()"
   ]
  },
  {
   "cell_type": "code",
   "execution_count": null,
   "metadata": {},
   "outputs": [],
   "source": []
  }
 ],
 "metadata": {
  "kernelspec": {
   "display_name": "Python 3",
   "language": "python",
   "name": "python3"
  },
  "language_info": {
   "codemirror_mode": {
    "name": "ipython",
    "version": 3
   },
   "file_extension": ".py",
   "mimetype": "text/x-python",
   "name": "python",
   "nbconvert_exporter": "python",
   "pygments_lexer": "ipython3",
   "version": "3.8.5"
  }
 },
 "nbformat": 4,
 "nbformat_minor": 4
}
