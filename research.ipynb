{
 "metadata": {
  "language_info": {
   "codemirror_mode": {
    "name": "ipython",
    "version": 3
   },
   "file_extension": ".py",
   "mimetype": "text/x-python",
   "name": "python",
   "nbconvert_exporter": "python",
   "pygments_lexer": "ipython3",
   "version": "3.8.6-final"
  },
  "orig_nbformat": 2,
  "kernelspec": {
   "name": "python3",
   "display_name": "Python 3.8.6 64-bit",
   "metadata": {
    "interpreter": {
     "hash": "36f3380ffc181f30993cf3390f273a57da7f964d3b630bb95c59c68b6677e0aa"
    }
   }
  }
 },
 "nbformat": 4,
 "nbformat_minor": 2,
 "cells": [
  {
   "cell_type": "code",
   "execution_count": 3,
   "metadata": {},
   "outputs": [],
   "source": [
    "import numpy as plt\n",
    "import pandas as np\n"
   ]
  },
  {
   "cell_type": "code",
   "execution_count": 3,
   "metadata": {},
   "outputs": [
    {
     "output_type": "stream",
     "name": "stderr",
     "text": [
      "4200it [01:10, 59.55it/s]\n"
     ]
    }
   ],
   "source": [
    "from loan.batchrunner import run_batch\n",
    "\n",
    "df = run_batch(use_mp=False)"
   ]
  },
  {
   "cell_type": "code",
   "execution_count": 4,
   "metadata": {},
   "outputs": [
    {
     "output_type": "execute_result",
     "data": {
      "text/plain": [
       "   illness_chance  factory_location  Run  End time  Hitpoints  \\\n",
       "0             0.2                 1    0        37         -2   \n",
       "1             0.2                 1    1        40         -3   \n",
       "2             0.2                 1    2        36         -1   \n",
       "3             0.2                 1    3        37          0   \n",
       "4             0.2                 1    4        56         -2   \n",
       "\n",
       "      Ill vertices  Vertices healed  N  \\\n",
       "0   [10, 13, 4, 6]                3  1   \n",
       "1  [12, 9, 11, 14]                3  1   \n",
       "2      [5, 14, 12]                4  1   \n",
       "3          [5, 12]                3  1   \n",
       "4     [12, 10, 14]                3  1   \n",
       "\n",
       "                                           network  \n",
       "0  (1, 2, 3, 6, 4, 7, 9, 10, 11, 12, 14, 13, 8, 5)  \n",
       "1  (1, 2, 3, 6, 4, 7, 9, 10, 11, 12, 14, 13, 8, 5)  \n",
       "2  (1, 2, 3, 6, 4, 7, 9, 10, 11, 12, 14, 13, 8, 5)  \n",
       "3  (1, 2, 3, 6, 4, 7, 9, 10, 11, 12, 14, 13, 8, 5)  \n",
       "4  (1, 2, 3, 6, 4, 7, 9, 10, 11, 12, 14, 13, 8, 5)  "
      ],
      "text/html": "<div>\n<style scoped>\n    .dataframe tbody tr th:only-of-type {\n        vertical-align: middle;\n    }\n\n    .dataframe tbody tr th {\n        vertical-align: top;\n    }\n\n    .dataframe thead th {\n        text-align: right;\n    }\n</style>\n<table border=\"1\" class=\"dataframe\">\n  <thead>\n    <tr style=\"text-align: right;\">\n      <th></th>\n      <th>illness_chance</th>\n      <th>factory_location</th>\n      <th>Run</th>\n      <th>End time</th>\n      <th>Hitpoints</th>\n      <th>Ill vertices</th>\n      <th>Vertices healed</th>\n      <th>N</th>\n      <th>network</th>\n    </tr>\n  </thead>\n  <tbody>\n    <tr>\n      <th>0</th>\n      <td>0.2</td>\n      <td>1</td>\n      <td>0</td>\n      <td>37</td>\n      <td>-2</td>\n      <td>[10, 13, 4, 6]</td>\n      <td>3</td>\n      <td>1</td>\n      <td>(1, 2, 3, 6, 4, 7, 9, 10, 11, 12, 14, 13, 8, 5)</td>\n    </tr>\n    <tr>\n      <th>1</th>\n      <td>0.2</td>\n      <td>1</td>\n      <td>1</td>\n      <td>40</td>\n      <td>-3</td>\n      <td>[12, 9, 11, 14]</td>\n      <td>3</td>\n      <td>1</td>\n      <td>(1, 2, 3, 6, 4, 7, 9, 10, 11, 12, 14, 13, 8, 5)</td>\n    </tr>\n    <tr>\n      <th>2</th>\n      <td>0.2</td>\n      <td>1</td>\n      <td>2</td>\n      <td>36</td>\n      <td>-1</td>\n      <td>[5, 14, 12]</td>\n      <td>4</td>\n      <td>1</td>\n      <td>(1, 2, 3, 6, 4, 7, 9, 10, 11, 12, 14, 13, 8, 5)</td>\n    </tr>\n    <tr>\n      <th>3</th>\n      <td>0.2</td>\n      <td>1</td>\n      <td>3</td>\n      <td>37</td>\n      <td>0</td>\n      <td>[5, 12]</td>\n      <td>3</td>\n      <td>1</td>\n      <td>(1, 2, 3, 6, 4, 7, 9, 10, 11, 12, 14, 13, 8, 5)</td>\n    </tr>\n    <tr>\n      <th>4</th>\n      <td>0.2</td>\n      <td>1</td>\n      <td>4</td>\n      <td>56</td>\n      <td>-2</td>\n      <td>[12, 10, 14]</td>\n      <td>3</td>\n      <td>1</td>\n      <td>(1, 2, 3, 6, 4, 7, 9, 10, 11, 12, 14, 13, 8, 5)</td>\n    </tr>\n  </tbody>\n</table>\n</div>"
     },
     "metadata": {},
     "execution_count": 4
    }
   ],
   "source": [
    "df.head()"
   ]
  },
  {
   "cell_type": "code",
   "execution_count": 5,
   "metadata": {},
   "outputs": [
    {
     "output_type": "execute_result",
     "data": {
      "text/plain": [
       "                                    Run  End time  Hitpoints  Vertices healed  \\\n",
       "factory_location illness_chance                                                 \n",
       "8                0.2              749.5     52.34      -0.88             5.50   \n",
       "5                0.2              449.5     51.57      -0.77             4.88   \n",
       "6                0.2              549.5     49.53      -1.23             4.91   \n",
       "2                0.2              149.5     49.04      -1.06             4.69   \n",
       "3                0.2              249.5     47.99      -1.33             4.64   \n",
       "7                0.2              649.5     47.70      -1.26             5.00   \n",
       "13               0.2             1249.5     47.30      -1.19             4.19   \n",
       "10               0.2              949.5     47.09      -1.10             4.08   \n",
       "14               0.2             1349.5     46.52      -1.28             3.95   \n",
       "12               0.2             1149.5     46.49      -1.36             4.04   \n",
       "1                0.2               49.5     46.45      -1.10             3.60   \n",
       "9                0.2              849.5     46.20      -1.28             4.48   \n",
       "11               0.2             1049.5     46.13      -1.22             4.30   \n",
       "4                0.2              349.5     44.11      -1.22             3.96   \n",
       "8                0.3             2149.5     40.82      -1.23             5.19   \n",
       "7                0.3             2049.5     40.33      -1.16             4.74   \n",
       "5                0.3             1849.5     39.87      -1.27             4.42   \n",
       "11               0.3             2449.5     39.49      -1.10             4.10   \n",
       "13               0.3             2649.5     38.86      -1.18             4.07   \n",
       "3                0.3             1649.5     38.79      -1.36             4.08   \n",
       "4                0.3             1749.5     38.60      -1.41             3.80   \n",
       "6                0.3             1949.5     38.56      -1.24             4.18   \n",
       "9                0.3             2249.5     38.55      -1.31             4.07   \n",
       "12               0.3             2549.5     38.12      -1.39             3.61   \n",
       "2                0.3             1549.5     38.01      -1.36             3.99   \n",
       "14               0.3             2749.5     37.89      -1.22             3.72   \n",
       "1                0.3             1449.5     37.69      -1.47             3.28   \n",
       "10               0.3             2349.5     37.51      -1.34             3.63   \n",
       "8                0.4             3549.5     36.38      -1.45             4.85   \n",
       "6                0.4             3349.5     35.10      -1.27             4.14   \n",
       "13               0.4             4049.5     35.09      -1.70             3.80   \n",
       "11               0.4             3849.5     35.06      -1.47             3.84   \n",
       "9                0.4             3649.5     35.00      -1.41             4.04   \n",
       "5                0.4             3249.5     34.85      -1.38             4.01   \n",
       "7                0.4             3449.5     34.82      -1.39             4.11   \n",
       "4                0.4             3149.5     34.56      -1.28             3.55   \n",
       "12               0.4             3949.5     34.45      -1.20             3.58   \n",
       "3                0.4             3049.5     34.29      -1.29             3.73   \n",
       "14               0.4             4149.5     34.06      -1.44             3.38   \n",
       "2                0.4             2949.5     34.03      -1.43             3.76   \n",
       "1                0.4             2849.5     33.94      -1.59             3.19   \n",
       "10               0.4             3749.5     33.75      -1.39             3.42   \n",
       "\n",
       "                                   N  \n",
       "factory_location illness_chance       \n",
       "8                0.2             1.0  \n",
       "5                0.2             1.0  \n",
       "6                0.2             1.0  \n",
       "2                0.2             1.0  \n",
       "3                0.2             1.0  \n",
       "7                0.2             1.0  \n",
       "13               0.2             1.0  \n",
       "10               0.2             1.0  \n",
       "14               0.2             1.0  \n",
       "12               0.2             1.0  \n",
       "1                0.2             1.0  \n",
       "9                0.2             1.0  \n",
       "11               0.2             1.0  \n",
       "4                0.2             1.0  \n",
       "8                0.3             1.0  \n",
       "7                0.3             1.0  \n",
       "5                0.3             1.0  \n",
       "11               0.3             1.0  \n",
       "13               0.3             1.0  \n",
       "3                0.3             1.0  \n",
       "4                0.3             1.0  \n",
       "6                0.3             1.0  \n",
       "9                0.3             1.0  \n",
       "12               0.3             1.0  \n",
       "2                0.3             1.0  \n",
       "14               0.3             1.0  \n",
       "1                0.3             1.0  \n",
       "10               0.3             1.0  \n",
       "8                0.4             1.0  \n",
       "6                0.4             1.0  \n",
       "13               0.4             1.0  \n",
       "11               0.4             1.0  \n",
       "9                0.4             1.0  \n",
       "5                0.4             1.0  \n",
       "7                0.4             1.0  \n",
       "4                0.4             1.0  \n",
       "12               0.4             1.0  \n",
       "3                0.4             1.0  \n",
       "14               0.4             1.0  \n",
       "2                0.4             1.0  \n",
       "1                0.4             1.0  \n",
       "10               0.4             1.0  "
      ],
      "text/html": "<div>\n<style scoped>\n    .dataframe tbody tr th:only-of-type {\n        vertical-align: middle;\n    }\n\n    .dataframe tbody tr th {\n        vertical-align: top;\n    }\n\n    .dataframe thead th {\n        text-align: right;\n    }\n</style>\n<table border=\"1\" class=\"dataframe\">\n  <thead>\n    <tr style=\"text-align: right;\">\n      <th></th>\n      <th></th>\n      <th>Run</th>\n      <th>End time</th>\n      <th>Hitpoints</th>\n      <th>Vertices healed</th>\n      <th>N</th>\n    </tr>\n    <tr>\n      <th>factory_location</th>\n      <th>illness_chance</th>\n      <th></th>\n      <th></th>\n      <th></th>\n      <th></th>\n      <th></th>\n    </tr>\n  </thead>\n  <tbody>\n    <tr>\n      <th>8</th>\n      <th>0.2</th>\n      <td>749.5</td>\n      <td>52.34</td>\n      <td>-0.88</td>\n      <td>5.50</td>\n      <td>1.0</td>\n    </tr>\n    <tr>\n      <th>5</th>\n      <th>0.2</th>\n      <td>449.5</td>\n      <td>51.57</td>\n      <td>-0.77</td>\n      <td>4.88</td>\n      <td>1.0</td>\n    </tr>\n    <tr>\n      <th>6</th>\n      <th>0.2</th>\n      <td>549.5</td>\n      <td>49.53</td>\n      <td>-1.23</td>\n      <td>4.91</td>\n      <td>1.0</td>\n    </tr>\n    <tr>\n      <th>2</th>\n      <th>0.2</th>\n      <td>149.5</td>\n      <td>49.04</td>\n      <td>-1.06</td>\n      <td>4.69</td>\n      <td>1.0</td>\n    </tr>\n    <tr>\n      <th>3</th>\n      <th>0.2</th>\n      <td>249.5</td>\n      <td>47.99</td>\n      <td>-1.33</td>\n      <td>4.64</td>\n      <td>1.0</td>\n    </tr>\n    <tr>\n      <th>7</th>\n      <th>0.2</th>\n      <td>649.5</td>\n      <td>47.70</td>\n      <td>-1.26</td>\n      <td>5.00</td>\n      <td>1.0</td>\n    </tr>\n    <tr>\n      <th>13</th>\n      <th>0.2</th>\n      <td>1249.5</td>\n      <td>47.30</td>\n      <td>-1.19</td>\n      <td>4.19</td>\n      <td>1.0</td>\n    </tr>\n    <tr>\n      <th>10</th>\n      <th>0.2</th>\n      <td>949.5</td>\n      <td>47.09</td>\n      <td>-1.10</td>\n      <td>4.08</td>\n      <td>1.0</td>\n    </tr>\n    <tr>\n      <th>14</th>\n      <th>0.2</th>\n      <td>1349.5</td>\n      <td>46.52</td>\n      <td>-1.28</td>\n      <td>3.95</td>\n      <td>1.0</td>\n    </tr>\n    <tr>\n      <th>12</th>\n      <th>0.2</th>\n      <td>1149.5</td>\n      <td>46.49</td>\n      <td>-1.36</td>\n      <td>4.04</td>\n      <td>1.0</td>\n    </tr>\n    <tr>\n      <th>1</th>\n      <th>0.2</th>\n      <td>49.5</td>\n      <td>46.45</td>\n      <td>-1.10</td>\n      <td>3.60</td>\n      <td>1.0</td>\n    </tr>\n    <tr>\n      <th>9</th>\n      <th>0.2</th>\n      <td>849.5</td>\n      <td>46.20</td>\n      <td>-1.28</td>\n      <td>4.48</td>\n      <td>1.0</td>\n    </tr>\n    <tr>\n      <th>11</th>\n      <th>0.2</th>\n      <td>1049.5</td>\n      <td>46.13</td>\n      <td>-1.22</td>\n      <td>4.30</td>\n      <td>1.0</td>\n    </tr>\n    <tr>\n      <th>4</th>\n      <th>0.2</th>\n      <td>349.5</td>\n      <td>44.11</td>\n      <td>-1.22</td>\n      <td>3.96</td>\n      <td>1.0</td>\n    </tr>\n    <tr>\n      <th>8</th>\n      <th>0.3</th>\n      <td>2149.5</td>\n      <td>40.82</td>\n      <td>-1.23</td>\n      <td>5.19</td>\n      <td>1.0</td>\n    </tr>\n    <tr>\n      <th>7</th>\n      <th>0.3</th>\n      <td>2049.5</td>\n      <td>40.33</td>\n      <td>-1.16</td>\n      <td>4.74</td>\n      <td>1.0</td>\n    </tr>\n    <tr>\n      <th>5</th>\n      <th>0.3</th>\n      <td>1849.5</td>\n      <td>39.87</td>\n      <td>-1.27</td>\n      <td>4.42</td>\n      <td>1.0</td>\n    </tr>\n    <tr>\n      <th>11</th>\n      <th>0.3</th>\n      <td>2449.5</td>\n      <td>39.49</td>\n      <td>-1.10</td>\n      <td>4.10</td>\n      <td>1.0</td>\n    </tr>\n    <tr>\n      <th>13</th>\n      <th>0.3</th>\n      <td>2649.5</td>\n      <td>38.86</td>\n      <td>-1.18</td>\n      <td>4.07</td>\n      <td>1.0</td>\n    </tr>\n    <tr>\n      <th>3</th>\n      <th>0.3</th>\n      <td>1649.5</td>\n      <td>38.79</td>\n      <td>-1.36</td>\n      <td>4.08</td>\n      <td>1.0</td>\n    </tr>\n    <tr>\n      <th>4</th>\n      <th>0.3</th>\n      <td>1749.5</td>\n      <td>38.60</td>\n      <td>-1.41</td>\n      <td>3.80</td>\n      <td>1.0</td>\n    </tr>\n    <tr>\n      <th>6</th>\n      <th>0.3</th>\n      <td>1949.5</td>\n      <td>38.56</td>\n      <td>-1.24</td>\n      <td>4.18</td>\n      <td>1.0</td>\n    </tr>\n    <tr>\n      <th>9</th>\n      <th>0.3</th>\n      <td>2249.5</td>\n      <td>38.55</td>\n      <td>-1.31</td>\n      <td>4.07</td>\n      <td>1.0</td>\n    </tr>\n    <tr>\n      <th>12</th>\n      <th>0.3</th>\n      <td>2549.5</td>\n      <td>38.12</td>\n      <td>-1.39</td>\n      <td>3.61</td>\n      <td>1.0</td>\n    </tr>\n    <tr>\n      <th>2</th>\n      <th>0.3</th>\n      <td>1549.5</td>\n      <td>38.01</td>\n      <td>-1.36</td>\n      <td>3.99</td>\n      <td>1.0</td>\n    </tr>\n    <tr>\n      <th>14</th>\n      <th>0.3</th>\n      <td>2749.5</td>\n      <td>37.89</td>\n      <td>-1.22</td>\n      <td>3.72</td>\n      <td>1.0</td>\n    </tr>\n    <tr>\n      <th>1</th>\n      <th>0.3</th>\n      <td>1449.5</td>\n      <td>37.69</td>\n      <td>-1.47</td>\n      <td>3.28</td>\n      <td>1.0</td>\n    </tr>\n    <tr>\n      <th>10</th>\n      <th>0.3</th>\n      <td>2349.5</td>\n      <td>37.51</td>\n      <td>-1.34</td>\n      <td>3.63</td>\n      <td>1.0</td>\n    </tr>\n    <tr>\n      <th>8</th>\n      <th>0.4</th>\n      <td>3549.5</td>\n      <td>36.38</td>\n      <td>-1.45</td>\n      <td>4.85</td>\n      <td>1.0</td>\n    </tr>\n    <tr>\n      <th>6</th>\n      <th>0.4</th>\n      <td>3349.5</td>\n      <td>35.10</td>\n      <td>-1.27</td>\n      <td>4.14</td>\n      <td>1.0</td>\n    </tr>\n    <tr>\n      <th>13</th>\n      <th>0.4</th>\n      <td>4049.5</td>\n      <td>35.09</td>\n      <td>-1.70</td>\n      <td>3.80</td>\n      <td>1.0</td>\n    </tr>\n    <tr>\n      <th>11</th>\n      <th>0.4</th>\n      <td>3849.5</td>\n      <td>35.06</td>\n      <td>-1.47</td>\n      <td>3.84</td>\n      <td>1.0</td>\n    </tr>\n    <tr>\n      <th>9</th>\n      <th>0.4</th>\n      <td>3649.5</td>\n      <td>35.00</td>\n      <td>-1.41</td>\n      <td>4.04</td>\n      <td>1.0</td>\n    </tr>\n    <tr>\n      <th>5</th>\n      <th>0.4</th>\n      <td>3249.5</td>\n      <td>34.85</td>\n      <td>-1.38</td>\n      <td>4.01</td>\n      <td>1.0</td>\n    </tr>\n    <tr>\n      <th>7</th>\n      <th>0.4</th>\n      <td>3449.5</td>\n      <td>34.82</td>\n      <td>-1.39</td>\n      <td>4.11</td>\n      <td>1.0</td>\n    </tr>\n    <tr>\n      <th>4</th>\n      <th>0.4</th>\n      <td>3149.5</td>\n      <td>34.56</td>\n      <td>-1.28</td>\n      <td>3.55</td>\n      <td>1.0</td>\n    </tr>\n    <tr>\n      <th>12</th>\n      <th>0.4</th>\n      <td>3949.5</td>\n      <td>34.45</td>\n      <td>-1.20</td>\n      <td>3.58</td>\n      <td>1.0</td>\n    </tr>\n    <tr>\n      <th>3</th>\n      <th>0.4</th>\n      <td>3049.5</td>\n      <td>34.29</td>\n      <td>-1.29</td>\n      <td>3.73</td>\n      <td>1.0</td>\n    </tr>\n    <tr>\n      <th>14</th>\n      <th>0.4</th>\n      <td>4149.5</td>\n      <td>34.06</td>\n      <td>-1.44</td>\n      <td>3.38</td>\n      <td>1.0</td>\n    </tr>\n    <tr>\n      <th>2</th>\n      <th>0.4</th>\n      <td>2949.5</td>\n      <td>34.03</td>\n      <td>-1.43</td>\n      <td>3.76</td>\n      <td>1.0</td>\n    </tr>\n    <tr>\n      <th>1</th>\n      <th>0.4</th>\n      <td>2849.5</td>\n      <td>33.94</td>\n      <td>-1.59</td>\n      <td>3.19</td>\n      <td>1.0</td>\n    </tr>\n    <tr>\n      <th>10</th>\n      <th>0.4</th>\n      <td>3749.5</td>\n      <td>33.75</td>\n      <td>-1.39</td>\n      <td>3.42</td>\n      <td>1.0</td>\n    </tr>\n  </tbody>\n</table>\n</div>"
     },
     "metadata": {},
     "execution_count": 5
    }
   ],
   "source": [
    "df.groupby([\"factory_location\", \"illness_chance\"]).mean().sort_values([\"End time\"], ascending=False)"
   ]
  },
  {
   "cell_type": "code",
   "execution_count": null,
   "metadata": {},
   "outputs": [],
   "source": []
  }
 ]
}